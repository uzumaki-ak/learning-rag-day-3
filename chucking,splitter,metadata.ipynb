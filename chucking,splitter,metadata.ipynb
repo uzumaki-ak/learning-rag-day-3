{
 "cells": [
  {
   "cell_type": "code",
   "execution_count": 1,
   "id": "742aa931",
   "metadata": {},
   "outputs": [],
   "source": [
    "from langchain_community.document_loaders import TextLoader"
   ]
  },
  {
   "cell_type": "code",
   "execution_count": 2,
   "id": "ac9ca6bc",
   "metadata": {},
   "outputs": [
    {
     "name": "stdout",
     "output_type": "stream",
     "text": [
      "I go by the name Uzumaki-AK online, though most people who know me in closer circles sometimes call me “pookie.” I am a full-stack developer who has spent the last several years experimenting with technology in every possible way. For me, coding is not just about solving tasks or earning a living; it is about exploring creativity through logic and building things that others can actually use. My main tools revolve around JavaScript and its ecosystem. I’ve gone deep with Node.js on the backend and React on the frontend, and I’ve learned to appreciate how these technologies empower rapid prototyping while still being powerful enough for production-grade systems.\n",
      "\n",
      "Beyond just frameworks, I enjoy experimenting with databases. I started with MongoDB, since it felt flexible and forgiving when I was learning, but later I came to value the structure of SQL systems like PostgreSQL. More recently I’ve been testing serverless databases like Neon, because I want to see how modern infrastructure reduces overhead for small developers like me. My philosophy is simple: I build projects to learn, and I learn by building projects. Some projects succeed, some get abandoned halfway, but every single one teaches me something I wouldn’t have known otherwise.\n",
      "\n",
      "I’m also very interested in AI and the growing field of retrieval-augmented generation. That’s part of why I’m setting up environments with LangChain and LlamaIndex right now. I don’t just want to use AI as a black box; I want to understand how it ingests documents, how embeddings actually work, and how context is retrieved for generating meaningful answers. I like breaking these systems down into smaller parts and rebuilding them in my own way.\n",
      "\n",
      "Outside of technology, I’m curious about people and systems. I like observing how communities form online, how tools evolve when more people adopt them, and how open-source projects grow from small repositories into ecosystems. I try to stay humble in my journey. I know I don’t have all the answers, but I have the drive to figure things out.\n",
      "\n",
      "In short, I’d describe myself as someone who’s constantly learning, building, and experimenting. I thrive in the overlap between creativity and engineering. Whether I’m writing backend APIs, designing React components, or wiring together a knowledge-retrieval pipeline, I’m motivated by the same thing: the challenge of making something real out of an idea.\n"
     ]
    }
   ],
   "source": [
    "loader = TextLoader(\"sample.txt\",encoding=\"utf-8\")\n",
    "docs = loader.load()\n",
    "print(docs[0].page_content)"
   ]
  },
  {
   "cell_type": "code",
   "execution_count": 3,
   "id": "51170c5d",
   "metadata": {},
   "outputs": [
    {
     "data": {
      "text/plain": [
       "[Document(metadata={'source': 'sample.txt'}, page_content='I go by the name Uzumaki-AK'),\n",
       " Document(metadata={'source': 'sample.txt'}, page_content='online, though most people'),\n",
       " Document(metadata={'source': 'sample.txt'}, page_content='who know me in closer circles'),\n",
       " Document(metadata={'source': 'sample.txt'}, page_content='sometimes call me “pookie.” I'),\n",
       " Document(metadata={'source': 'sample.txt'}, page_content='I am a full-stack developer'),\n",
       " Document(metadata={'source': 'sample.txt'}, page_content='who has spent the last'),\n",
       " Document(metadata={'source': 'sample.txt'}, page_content='last several years'),\n",
       " Document(metadata={'source': 'sample.txt'}, page_content='experimenting with technology'),\n",
       " Document(metadata={'source': 'sample.txt'}, page_content='in every possible way. For'),\n",
       " Document(metadata={'source': 'sample.txt'}, page_content='For me, coding is not just'),\n",
       " Document(metadata={'source': 'sample.txt'}, page_content='just about solving tasks or'),\n",
       " Document(metadata={'source': 'sample.txt'}, page_content='or earning a living; it is'),\n",
       " Document(metadata={'source': 'sample.txt'}, page_content='is about exploring creativity'),\n",
       " Document(metadata={'source': 'sample.txt'}, page_content='through logic and building'),\n",
       " Document(metadata={'source': 'sample.txt'}, page_content='things that others can'),\n",
       " Document(metadata={'source': 'sample.txt'}, page_content='can actually use. My main'),\n",
       " Document(metadata={'source': 'sample.txt'}, page_content='main tools revolve around'),\n",
       " Document(metadata={'source': 'sample.txt'}, page_content='JavaScript and its ecosystem.'),\n",
       " Document(metadata={'source': 'sample.txt'}, page_content='I’ve gone deep with Node.js'),\n",
       " Document(metadata={'source': 'sample.txt'}, page_content='on the backend and React on'),\n",
       " Document(metadata={'source': 'sample.txt'}, page_content='on the frontend, and I’ve'),\n",
       " Document(metadata={'source': 'sample.txt'}, page_content='I’ve learned to appreciate'),\n",
       " Document(metadata={'source': 'sample.txt'}, page_content='how these technologies'),\n",
       " Document(metadata={'source': 'sample.txt'}, page_content='empower rapid prototyping'),\n",
       " Document(metadata={'source': 'sample.txt'}, page_content='while still being powerful'),\n",
       " Document(metadata={'source': 'sample.txt'}, page_content='enough for production-grade'),\n",
       " Document(metadata={'source': 'sample.txt'}, page_content='systems.'),\n",
       " Document(metadata={'source': 'sample.txt'}, page_content='Beyond just frameworks, I'),\n",
       " Document(metadata={'source': 'sample.txt'}, page_content='I enjoy experimenting with'),\n",
       " Document(metadata={'source': 'sample.txt'}, page_content='with databases. I started'),\n",
       " Document(metadata={'source': 'sample.txt'}, page_content='with MongoDB, since it felt'),\n",
       " Document(metadata={'source': 'sample.txt'}, page_content='felt flexible and forgiving'),\n",
       " Document(metadata={'source': 'sample.txt'}, page_content='when I was learning, but'),\n",
       " Document(metadata={'source': 'sample.txt'}, page_content='but later I came to value the'),\n",
       " Document(metadata={'source': 'sample.txt'}, page_content='the structure of SQL systems'),\n",
       " Document(metadata={'source': 'sample.txt'}, page_content='like PostgreSQL. More'),\n",
       " Document(metadata={'source': 'sample.txt'}, page_content='More recently I’ve been'),\n",
       " Document(metadata={'source': 'sample.txt'}, page_content='been testing serverless'),\n",
       " Document(metadata={'source': 'sample.txt'}, page_content='databases like Neon, because'),\n",
       " Document(metadata={'source': 'sample.txt'}, page_content='I want to see how modern'),\n",
       " Document(metadata={'source': 'sample.txt'}, page_content='infrastructure reduces'),\n",
       " Document(metadata={'source': 'sample.txt'}, page_content='overhead for small developers'),\n",
       " Document(metadata={'source': 'sample.txt'}, page_content='like me. My philosophy is'),\n",
       " Document(metadata={'source': 'sample.txt'}, page_content='is simple: I build projects'),\n",
       " Document(metadata={'source': 'sample.txt'}, page_content='to learn, and I learn by'),\n",
       " Document(metadata={'source': 'sample.txt'}, page_content='by building projects. Some'),\n",
       " Document(metadata={'source': 'sample.txt'}, page_content='Some projects succeed, some'),\n",
       " Document(metadata={'source': 'sample.txt'}, page_content='some get abandoned halfway,'),\n",
       " Document(metadata={'source': 'sample.txt'}, page_content='but every single one teaches'),\n",
       " Document(metadata={'source': 'sample.txt'}, page_content='me something I wouldn’t have'),\n",
       " Document(metadata={'source': 'sample.txt'}, page_content='have known otherwise.'),\n",
       " Document(metadata={'source': 'sample.txt'}, page_content='I’m also very interested in'),\n",
       " Document(metadata={'source': 'sample.txt'}, page_content='in AI and the growing field'),\n",
       " Document(metadata={'source': 'sample.txt'}, page_content='of retrieval-augmented'),\n",
       " Document(metadata={'source': 'sample.txt'}, page_content='generation. That’s part of'),\n",
       " Document(metadata={'source': 'sample.txt'}, page_content='of why I’m setting up'),\n",
       " Document(metadata={'source': 'sample.txt'}, page_content='up environments with'),\n",
       " Document(metadata={'source': 'sample.txt'}, page_content='with LangChain and LlamaIndex'),\n",
       " Document(metadata={'source': 'sample.txt'}, page_content='right now. I don’t just want'),\n",
       " Document(metadata={'source': 'sample.txt'}, page_content='want to use AI as a black'),\n",
       " Document(metadata={'source': 'sample.txt'}, page_content='box; I want to understand how'),\n",
       " Document(metadata={'source': 'sample.txt'}, page_content='how it ingests documents, how'),\n",
       " Document(metadata={'source': 'sample.txt'}, page_content='how embeddings actually work,'),\n",
       " Document(metadata={'source': 'sample.txt'}, page_content='and how context is retrieved'),\n",
       " Document(metadata={'source': 'sample.txt'}, page_content='for generating meaningful'),\n",
       " Document(metadata={'source': 'sample.txt'}, page_content='answers. I like breaking'),\n",
       " Document(metadata={'source': 'sample.txt'}, page_content='these systems down into'),\n",
       " Document(metadata={'source': 'sample.txt'}, page_content='into smaller parts and'),\n",
       " Document(metadata={'source': 'sample.txt'}, page_content='and rebuilding them in my own'),\n",
       " Document(metadata={'source': 'sample.txt'}, page_content='own way.'),\n",
       " Document(metadata={'source': 'sample.txt'}, page_content='Outside of technology, I’m'),\n",
       " Document(metadata={'source': 'sample.txt'}, page_content='I’m curious about people and'),\n",
       " Document(metadata={'source': 'sample.txt'}, page_content='and systems. I like observing'),\n",
       " Document(metadata={'source': 'sample.txt'}, page_content='how communities form online,'),\n",
       " Document(metadata={'source': 'sample.txt'}, page_content='how tools evolve when more'),\n",
       " Document(metadata={'source': 'sample.txt'}, page_content='more people adopt them, and'),\n",
       " Document(metadata={'source': 'sample.txt'}, page_content='and how open-source projects'),\n",
       " Document(metadata={'source': 'sample.txt'}, page_content='grow from small repositories'),\n",
       " Document(metadata={'source': 'sample.txt'}, page_content='into ecosystems. I try to'),\n",
       " Document(metadata={'source': 'sample.txt'}, page_content='to stay humble in my journey.'),\n",
       " Document(metadata={'source': 'sample.txt'}, page_content='I know I don’t have all the'),\n",
       " Document(metadata={'source': 'sample.txt'}, page_content='the answers, but I have the'),\n",
       " Document(metadata={'source': 'sample.txt'}, page_content='the drive to figure things'),\n",
       " Document(metadata={'source': 'sample.txt'}, page_content='out.'),\n",
       " Document(metadata={'source': 'sample.txt'}, page_content='In short, I’d describe myself'),\n",
       " Document(metadata={'source': 'sample.txt'}, page_content='as someone who’s constantly'),\n",
       " Document(metadata={'source': 'sample.txt'}, page_content='learning, building, and'),\n",
       " Document(metadata={'source': 'sample.txt'}, page_content='and experimenting. I thrive'),\n",
       " Document(metadata={'source': 'sample.txt'}, page_content='in the overlap between'),\n",
       " Document(metadata={'source': 'sample.txt'}, page_content='creativity and engineering.'),\n",
       " Document(metadata={'source': 'sample.txt'}, page_content='Whether I’m writing backend'),\n",
       " Document(metadata={'source': 'sample.txt'}, page_content='APIs, designing React'),\n",
       " Document(metadata={'source': 'sample.txt'}, page_content='components, or wiring'),\n",
       " Document(metadata={'source': 'sample.txt'}, page_content='together a'),\n",
       " Document(metadata={'source': 'sample.txt'}, page_content='a knowledge-retrieval'),\n",
       " Document(metadata={'source': 'sample.txt'}, page_content='pipeline, I’m motivated by'),\n",
       " Document(metadata={'source': 'sample.txt'}, page_content='by the same thing: the'),\n",
       " Document(metadata={'source': 'sample.txt'}, page_content='the challenge of making'),\n",
       " Document(metadata={'source': 'sample.txt'}, page_content='something real out of an'),\n",
       " Document(metadata={'source': 'sample.txt'}, page_content='an idea.')]"
      ]
     },
     "execution_count": 3,
     "metadata": {},
     "output_type": "execute_result"
    }
   ],
   "source": [
    "from langchain.text_splitter import RecursiveCharacterTextSplitter\n",
    "splitter = RecursiveCharacterTextSplitter(chunk_size=30,chunk_overlap=5)\n",
    "splitter.split_documents(docs)"
   ]
  },
  {
   "cell_type": "code",
   "execution_count": 5,
   "id": "b1f60187",
   "metadata": {},
   "outputs": [],
   "source": [
    "from langchain.text_splitter import CharacterTextSplitter\n",
    "char_spi = CharacterTextSplitter(separator=\" \",chunk_size=30,chunk_overlap=10)"
   ]
  },
  {
   "cell_type": "code",
   "execution_count": 6,
   "id": "a0939b50",
   "metadata": {},
   "outputs": [
    {
     "data": {
      "text/plain": [
       "[Document(metadata={'source': 'sample.txt'}, page_content='I go by the name Uzumaki-AK'),\n",
       " Document(metadata={'source': 'sample.txt'}, page_content='Uzumaki-AK online, though most'),\n",
       " Document(metadata={'source': 'sample.txt'}, page_content='most people who know me in'),\n",
       " Document(metadata={'source': 'sample.txt'}, page_content='know me in closer circles'),\n",
       " Document(metadata={'source': 'sample.txt'}, page_content='circles sometimes call me'),\n",
       " Document(metadata={'source': 'sample.txt'}, page_content='call me “pookie.” I am a'),\n",
       " Document(metadata={'source': 'sample.txt'}, page_content='I am a full-stack developer'),\n",
       " Document(metadata={'source': 'sample.txt'}, page_content='developer who has spent the'),\n",
       " Document(metadata={'source': 'sample.txt'}, page_content='spent the last several years'),\n",
       " Document(metadata={'source': 'sample.txt'}, page_content='years experimenting with'),\n",
       " Document(metadata={'source': 'sample.txt'}, page_content='with technology in every'),\n",
       " Document(metadata={'source': 'sample.txt'}, page_content='in every possible way. For me,'),\n",
       " Document(metadata={'source': 'sample.txt'}, page_content='For me, coding is not just'),\n",
       " Document(metadata={'source': 'sample.txt'}, page_content='not just about solving tasks'),\n",
       " Document(metadata={'source': 'sample.txt'}, page_content='tasks or earning a living; it'),\n",
       " Document(metadata={'source': 'sample.txt'}, page_content='living; it is about exploring'),\n",
       " Document(metadata={'source': 'sample.txt'}, page_content='exploring creativity through'),\n",
       " Document(metadata={'source': 'sample.txt'}, page_content='through logic and building'),\n",
       " Document(metadata={'source': 'sample.txt'}, page_content='building things that others'),\n",
       " Document(metadata={'source': 'sample.txt'}, page_content='others can actually use. My'),\n",
       " Document(metadata={'source': 'sample.txt'}, page_content='use. My main tools revolve'),\n",
       " Document(metadata={'source': 'sample.txt'}, page_content='revolve around JavaScript and'),\n",
       " Document(metadata={'source': 'sample.txt'}, page_content='and its ecosystem. I’ve gone'),\n",
       " Document(metadata={'source': 'sample.txt'}, page_content='I’ve gone deep with Node.js on'),\n",
       " Document(metadata={'source': 'sample.txt'}, page_content='Node.js on the backend and'),\n",
       " Document(metadata={'source': 'sample.txt'}, page_content='and React on the frontend, and'),\n",
       " Document(metadata={'source': 'sample.txt'}, page_content='and I’ve learned to appreciate'),\n",
       " Document(metadata={'source': 'sample.txt'}, page_content='appreciate how these'),\n",
       " Document(metadata={'source': 'sample.txt'}, page_content='how these technologies empower'),\n",
       " Document(metadata={'source': 'sample.txt'}, page_content='empower rapid prototyping'),\n",
       " Document(metadata={'source': 'sample.txt'}, page_content='while still being powerful'),\n",
       " Document(metadata={'source': 'sample.txt'}, page_content='powerful enough for'),\n",
       " Document(metadata={'source': 'sample.txt'}, page_content='enough for production-grade'),\n",
       " Document(metadata={'source': 'sample.txt'}, page_content='systems.\\n\\nBeyond just'),\n",
       " Document(metadata={'source': 'sample.txt'}, page_content='just frameworks, I enjoy'),\n",
       " Document(metadata={'source': 'sample.txt'}, page_content='I enjoy experimenting with'),\n",
       " Document(metadata={'source': 'sample.txt'}, page_content='with databases. I started with'),\n",
       " Document(metadata={'source': 'sample.txt'}, page_content='with MongoDB, since it felt'),\n",
       " Document(metadata={'source': 'sample.txt'}, page_content='it felt flexible and forgiving'),\n",
       " Document(metadata={'source': 'sample.txt'}, page_content='forgiving when I was learning,'),\n",
       " Document(metadata={'source': 'sample.txt'}, page_content='learning, but later I came to'),\n",
       " Document(metadata={'source': 'sample.txt'}, page_content='I came to value the structure'),\n",
       " Document(metadata={'source': 'sample.txt'}, page_content='structure of SQL systems like'),\n",
       " Document(metadata={'source': 'sample.txt'}, page_content='like PostgreSQL. More recently'),\n",
       " Document(metadata={'source': 'sample.txt'}, page_content='recently I’ve been testing'),\n",
       " Document(metadata={'source': 'sample.txt'}, page_content='testing serverless databases'),\n",
       " Document(metadata={'source': 'sample.txt'}, page_content='databases like Neon, because I'),\n",
       " Document(metadata={'source': 'sample.txt'}, page_content='because I want to see how'),\n",
       " Document(metadata={'source': 'sample.txt'}, page_content='to see how modern'),\n",
       " Document(metadata={'source': 'sample.txt'}, page_content='how modern infrastructure'),\n",
       " Document(metadata={'source': 'sample.txt'}, page_content='reduces overhead for small'),\n",
       " Document(metadata={'source': 'sample.txt'}, page_content='for small developers like me.'),\n",
       " Document(metadata={'source': 'sample.txt'}, page_content='like me. My philosophy is'),\n",
       " Document(metadata={'source': 'sample.txt'}, page_content='is simple: I build projects to'),\n",
       " Document(metadata={'source': 'sample.txt'}, page_content='to learn, and I learn by'),\n",
       " Document(metadata={'source': 'sample.txt'}, page_content='I learn by building projects.'),\n",
       " Document(metadata={'source': 'sample.txt'}, page_content='projects. Some projects'),\n",
       " Document(metadata={'source': 'sample.txt'}, page_content='projects succeed, some get'),\n",
       " Document(metadata={'source': 'sample.txt'}, page_content='some get abandoned halfway,'),\n",
       " Document(metadata={'source': 'sample.txt'}, page_content='halfway, but every single one'),\n",
       " Document(metadata={'source': 'sample.txt'}, page_content='single one teaches me'),\n",
       " Document(metadata={'source': 'sample.txt'}, page_content='teaches me something I'),\n",
       " Document(metadata={'source': 'sample.txt'}, page_content='I wouldn’t have known'),\n",
       " Document(metadata={'source': 'sample.txt'}, page_content='have known otherwise.\\n\\nI’m'),\n",
       " Document(metadata={'source': 'sample.txt'}, page_content='also very interested in AI and'),\n",
       " Document(metadata={'source': 'sample.txt'}, page_content='in AI and the growing field of'),\n",
       " Document(metadata={'source': 'sample.txt'}, page_content='field of retrieval-augmented'),\n",
       " Document(metadata={'source': 'sample.txt'}, page_content='generation. That’s part of why'),\n",
       " Document(metadata={'source': 'sample.txt'}, page_content='of why I’m setting up'),\n",
       " Document(metadata={'source': 'sample.txt'}, page_content='setting up environments with'),\n",
       " Document(metadata={'source': 'sample.txt'}, page_content='with LangChain and LlamaIndex'),\n",
       " Document(metadata={'source': 'sample.txt'}, page_content='LlamaIndex right now. I don’t'),\n",
       " Document(metadata={'source': 'sample.txt'}, page_content='I don’t just want to use AI as'),\n",
       " Document(metadata={'source': 'sample.txt'}, page_content='use AI as a black box; I want'),\n",
       " Document(metadata={'source': 'sample.txt'}, page_content='I want to understand how it'),\n",
       " Document(metadata={'source': 'sample.txt'}, page_content='how it ingests documents, how'),\n",
       " Document(metadata={'source': 'sample.txt'}, page_content='how embeddings actually work,'),\n",
       " Document(metadata={'source': 'sample.txt'}, page_content='work, and how context is'),\n",
       " Document(metadata={'source': 'sample.txt'}, page_content='context is retrieved for'),\n",
       " Document(metadata={'source': 'sample.txt'}, page_content='for generating meaningful'),\n",
       " Document(metadata={'source': 'sample.txt'}, page_content='meaningful answers. I like'),\n",
       " Document(metadata={'source': 'sample.txt'}, page_content='I like breaking these systems'),\n",
       " Document(metadata={'source': 'sample.txt'}, page_content='systems down into smaller'),\n",
       " Document(metadata={'source': 'sample.txt'}, page_content='smaller parts and rebuilding'),\n",
       " Document(metadata={'source': 'sample.txt'}, page_content='rebuilding them in my own'),\n",
       " Document(metadata={'source': 'sample.txt'}, page_content='in my own way.\\n\\nOutside of'),\n",
       " Document(metadata={'source': 'sample.txt'}, page_content='of technology, I’m curious'),\n",
       " Document(metadata={'source': 'sample.txt'}, page_content='curious about people and'),\n",
       " Document(metadata={'source': 'sample.txt'}, page_content='people and systems. I like'),\n",
       " Document(metadata={'source': 'sample.txt'}, page_content='I like observing how'),\n",
       " Document(metadata={'source': 'sample.txt'}, page_content='how communities form online,'),\n",
       " Document(metadata={'source': 'sample.txt'}, page_content='online, how tools evolve when'),\n",
       " Document(metadata={'source': 'sample.txt'}, page_content='when more people adopt them,'),\n",
       " Document(metadata={'source': 'sample.txt'}, page_content='them, and how open-source'),\n",
       " Document(metadata={'source': 'sample.txt'}, page_content='projects grow from small'),\n",
       " Document(metadata={'source': 'sample.txt'}, page_content='from small repositories into'),\n",
       " Document(metadata={'source': 'sample.txt'}, page_content='into ecosystems. I try to stay'),\n",
       " Document(metadata={'source': 'sample.txt'}, page_content='to stay humble in my journey.'),\n",
       " Document(metadata={'source': 'sample.txt'}, page_content='journey. I know I don’t have'),\n",
       " Document(metadata={'source': 'sample.txt'}, page_content='don’t have all the answers,'),\n",
       " Document(metadata={'source': 'sample.txt'}, page_content='answers, but I have the drive'),\n",
       " Document(metadata={'source': 'sample.txt'}, page_content='the drive to figure things'),\n",
       " Document(metadata={'source': 'sample.txt'}, page_content='things out.\\n\\nIn short, I’d'),\n",
       " Document(metadata={'source': 'sample.txt'}, page_content='short, I’d describe myself as'),\n",
       " Document(metadata={'source': 'sample.txt'}, page_content='myself as someone who’s'),\n",
       " Document(metadata={'source': 'sample.txt'}, page_content='who’s constantly learning,'),\n",
       " Document(metadata={'source': 'sample.txt'}, page_content='learning, building, and'),\n",
       " Document(metadata={'source': 'sample.txt'}, page_content='and experimenting. I thrive in'),\n",
       " Document(metadata={'source': 'sample.txt'}, page_content='thrive in the overlap between'),\n",
       " Document(metadata={'source': 'sample.txt'}, page_content='between creativity and'),\n",
       " Document(metadata={'source': 'sample.txt'}, page_content='and engineering. Whether I’m'),\n",
       " Document(metadata={'source': 'sample.txt'}, page_content='I’m writing backend APIs,'),\n",
       " Document(metadata={'source': 'sample.txt'}, page_content='APIs, designing React'),\n",
       " Document(metadata={'source': 'sample.txt'}, page_content='React components, or wiring'),\n",
       " Document(metadata={'source': 'sample.txt'}, page_content='or wiring together a'),\n",
       " Document(metadata={'source': 'sample.txt'}, page_content='together a knowledge-retrieval'),\n",
       " Document(metadata={'source': 'sample.txt'}, page_content='pipeline, I’m motivated by the'),\n",
       " Document(metadata={'source': 'sample.txt'}, page_content='by the same thing: the'),\n",
       " Document(metadata={'source': 'sample.txt'}, page_content='thing: the challenge of making'),\n",
       " Document(metadata={'source': 'sample.txt'}, page_content='of making something real out'),\n",
       " Document(metadata={'source': 'sample.txt'}, page_content='real out of an idea.')]"
      ]
     },
     "execution_count": 6,
     "metadata": {},
     "output_type": "execute_result"
    }
   ],
   "source": [
    "char_spi.split_documents(docs)"
   ]
  },
  {
   "cell_type": "code",
   "execution_count": 7,
   "id": "bbd3a5e3",
   "metadata": {},
   "outputs": [],
   "source": [
    "from langchain.text_splitter import TokenTextSplitter\n"
   ]
  },
  {
   "cell_type": "code",
   "execution_count": 8,
   "id": "d708cb42",
   "metadata": {},
   "outputs": [],
   "source": [
    "token_spi = TokenTextSplitter(chunk_size=50, chunk_overlap=10)"
   ]
  },
  {
   "cell_type": "code",
   "execution_count": null,
   "id": "4479243f",
   "metadata": {},
   "outputs": [
    {
     "data": {
      "text/plain": [
       "[Document(metadata={'source': 'sample.txt'}, page_content='I go by the name Uzumaki-AK online, though most people who know me in closer circles sometimes call me “pookie.” I am a full-stack developer who has spent the last several years experimenting with technology in every'),\n",
       " Document(metadata={'source': 'sample.txt'}, page_content=' spent the last several years experimenting with technology in every possible way. For me, coding is not just about solving tasks or earning a living; it is about exploring creativity through logic and building things that others can actually use. My main tools revolve around'),\n",
       " Document(metadata={'source': 'sample.txt'}, page_content=' can actually use. My main tools revolve around JavaScript and its ecosystem. I’ve gone deep with Node.js on the backend and React on the frontend, and I’ve learned to appreciate how these technologies empower rapid prototyping'),\n",
       " Document(metadata={'source': 'sample.txt'}, page_content=' learned to appreciate how these technologies empower rapid prototyping while still being powerful enough for production-grade systems.\\n\\nBeyond just frameworks, I enjoy experimenting with databases. I started with MongoDB, since it felt flexible and forgiving when I was learning,'),\n",
       " Document(metadata={'source': 'sample.txt'}, page_content=' it felt flexible and forgiving when I was learning, but later I came to value the structure of SQL systems like PostgreSQL. More recently I’ve been testing serverless databases like Neon, because I want to see how modern infrastructure reduces overhead for'),\n",
       " Document(metadata={'source': 'sample.txt'}, page_content=' I want to see how modern infrastructure reduces overhead for small developers like me. My philosophy is simple: I build projects to learn, and I learn by building projects. Some projects succeed, some get abandoned halfway, but every single one teaches me something I'),\n",
       " Document(metadata={'source': 'sample.txt'}, page_content=' halfway, but every single one teaches me something I wouldn’t have known otherwise.\\n\\nI’m also very interested in AI and the growing field of retrieval-augmented generation. That’s part of why I�'),\n",
       " Document(metadata={'source': 'sample.txt'}, page_content='. That’s part of why I’m setting up environments with LangChain and LlamaIndex right now. I don’t just want to use AI as a black box; I want to understand how it ingests documents,'),\n",
       " Document(metadata={'source': 'sample.txt'}, page_content=' I want to understand how it ingests documents, how embeddings actually work, and how context is retrieved for generating meaningful answers. I like breaking these systems down into smaller parts and rebuilding them in my own way.\\n\\nOutside of technology,'),\n",
       " Document(metadata={'source': 'sample.txt'}, page_content=' my own way.\\n\\nOutside of technology, I’m curious about people and systems. I like observing how communities form online, how tools evolve when more people adopt them, and how open-source projects grow from small repositories into ecosystems.'),\n",
       " Document(metadata={'source': 'sample.txt'}, page_content='-source projects grow from small repositories into ecosystems. I try to stay humble in my journey. I know I don’t have all the answers, but I have the drive to figure things out.\\n\\nIn short, I’d'),\n",
       " Document(metadata={'source': 'sample.txt'}, page_content='.\\n\\nIn short, I’d describe myself as someone who’s constantly learning, building, and experimenting. I thrive in the overlap between creativity and engineering. Whether I’m writing backend APIs, designing React components, or'),\n",
       " Document(metadata={'source': 'sample.txt'}, page_content='m writing backend APIs, designing React components, or wiring together a knowledge-retrieval pipeline, I’m motivated by the same thing: the challenge of making something real out of an idea.')]"
      ]
     },
     "execution_count": 9,
     "metadata": {},
     "output_type": "execute_result"
    }
   ],
   "source": [
    "token_spi.split_documents(docs)"
   ]
  },
  {
   "cell_type": "code",
   "execution_count": 13,
   "id": "4d55d3db",
   "metadata": {},
   "outputs": [
    {
     "data": {
      "text/plain": [
       "langchain_core.documents.base.Document"
      ]
     },
     "execution_count": 13,
     "metadata": {},
     "output_type": "execute_result"
    }
   ],
   "source": [
    "type(docs[0])"
   ]
  },
  {
   "cell_type": "code",
   "execution_count": 14,
   "id": "31565332",
   "metadata": {},
   "outputs": [],
   "source": [
    "docs.append({'wives':'sop-shre'})"
   ]
  },
  {
   "cell_type": "code",
   "execution_count": 15,
   "id": "5c87e46b",
   "metadata": {},
   "outputs": [
    {
     "data": {
      "text/plain": [
       "[Document(metadata={'source': 'sample.txt'}, page_content='I go by the name Uzumaki-AK online, though most people who know me in closer circles sometimes call me “pookie.” I am a full-stack developer who has spent the last several years experimenting with technology in every possible way. For me, coding is not just about solving tasks or earning a living; it is about exploring creativity through logic and building things that others can actually use. My main tools revolve around JavaScript and its ecosystem. I’ve gone deep with Node.js on the backend and React on the frontend, and I’ve learned to appreciate how these technologies empower rapid prototyping while still being powerful enough for production-grade systems.\\n\\nBeyond just frameworks, I enjoy experimenting with databases. I started with MongoDB, since it felt flexible and forgiving when I was learning, but later I came to value the structure of SQL systems like PostgreSQL. More recently I’ve been testing serverless databases like Neon, because I want to see how modern infrastructure reduces overhead for small developers like me. My philosophy is simple: I build projects to learn, and I learn by building projects. Some projects succeed, some get abandoned halfway, but every single one teaches me something I wouldn’t have known otherwise.\\n\\nI’m also very interested in AI and the growing field of retrieval-augmented generation. That’s part of why I’m setting up environments with LangChain and LlamaIndex right now. I don’t just want to use AI as a black box; I want to understand how it ingests documents, how embeddings actually work, and how context is retrieved for generating meaningful answers. I like breaking these systems down into smaller parts and rebuilding them in my own way.\\n\\nOutside of technology, I’m curious about people and systems. I like observing how communities form online, how tools evolve when more people adopt them, and how open-source projects grow from small repositories into ecosystems. I try to stay humble in my journey. I know I don’t have all the answers, but I have the drive to figure things out.\\n\\nIn short, I’d describe myself as someone who’s constantly learning, building, and experimenting. I thrive in the overlap between creativity and engineering. Whether I’m writing backend APIs, designing React components, or wiring together a knowledge-retrieval pipeline, I’m motivated by the same thing: the challenge of making something real out of an idea.'),\n",
       " {'wives': 'sop-shre'}]"
      ]
     },
     "execution_count": 15,
     "metadata": {},
     "output_type": "execute_result"
    }
   ],
   "source": [
    "docs"
   ]
  },
  {
   "cell_type": "code",
   "execution_count": 18,
   "id": "ed415ac7",
   "metadata": {},
   "outputs": [],
   "source": [
    "docs[0].metadata = {'source':'sample.txt', 'fav-anime':'Naruto'}"
   ]
  },
  {
   "cell_type": "code",
   "execution_count": null,
   "id": "0cd068e0",
   "metadata": {},
   "outputs": [
    {
     "data": {
      "text/plain": [
       "dict"
      ]
     },
     "execution_count": 19,
     "metadata": {},
     "output_type": "execute_result"
    }
   ],
   "source": [
    "type(docs[0].metadata)"
   ]
  },
  {
   "cell_type": "code",
   "execution_count": 20,
   "id": "b500113b",
   "metadata": {},
   "outputs": [
    {
     "data": {
      "text/plain": [
       "{'source': 'sample.txt', 'fav-anime': 'Naruto'}"
      ]
     },
     "execution_count": 20,
     "metadata": {},
     "output_type": "execute_result"
    }
   ],
   "source": [
    "docs[0].metadata"
   ]
  }
 ],
 "metadata": {
  "kernelspec": {
   "display_name": ".venv",
   "language": "python",
   "name": "python3"
  },
  "language_info": {
   "codemirror_mode": {
    "name": "ipython",
    "version": 3
   },
   "file_extension": ".py",
   "mimetype": "text/x-python",
   "name": "python",
   "nbconvert_exporter": "python",
   "pygments_lexer": "ipython3",
   "version": "3.11.9"
  }
 },
 "nbformat": 4,
 "nbformat_minor": 5
}
