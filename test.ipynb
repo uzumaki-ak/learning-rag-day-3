{
 "cells": [
  {
   "cell_type": "code",
   "execution_count": 1,
   "id": "4f70fd8a",
   "metadata": {},
   "outputs": [
    {
     "name": "stdout",
     "output_type": "stream",
     "text": [
      "Collecting faiss-cpu\n",
      "  Using cached faiss_cpu-1.12.0-cp311-cp311-win_amd64.whl.metadata (5.2 kB)\n",
      "Requirement already satisfied: requests in c:\\users\\asnoi\\rag-works\\doc-loading-rag\\.venv\\lib\\site-packages (2.32.5)\n",
      "Requirement already satisfied: numpy<3.0,>=1.25.0 in c:\\users\\asnoi\\rag-works\\doc-loading-rag\\.venv\\lib\\site-packages (from faiss-cpu) (2.2.6)\n",
      "Requirement already satisfied: packaging in c:\\users\\asnoi\\rag-works\\doc-loading-rag\\.venv\\lib\\site-packages (from faiss-cpu) (25.0)\n",
      "Requirement already satisfied: charset_normalizer<4,>=2 in c:\\users\\asnoi\\rag-works\\doc-loading-rag\\.venv\\lib\\site-packages (from requests) (3.4.3)\n",
      "Requirement already satisfied: idna<4,>=2.5 in c:\\users\\asnoi\\rag-works\\doc-loading-rag\\.venv\\lib\\site-packages (from requests) (3.10)\n",
      "Requirement already satisfied: urllib3<3,>=1.21.1 in c:\\users\\asnoi\\rag-works\\doc-loading-rag\\.venv\\lib\\site-packages (from requests) (2.5.0)\n",
      "Requirement already satisfied: certifi>=2017.4.17 in c:\\users\\asnoi\\rag-works\\doc-loading-rag\\.venv\\lib\\site-packages (from requests) (2025.8.3)\n",
      "Using cached faiss_cpu-1.12.0-cp311-cp311-win_amd64.whl (18.2 MB)\n",
      "Installing collected packages: faiss-cpu\n",
      "Successfully installed faiss-cpu-1.12.0\n"
     ]
    },
    {
     "name": "stderr",
     "output_type": "stream",
     "text": [
      "\n",
      "[notice] A new release of pip is available: 24.0 -> 25.2\n",
      "[notice] To update, run: python.exe -m pip install --upgrade pip\n"
     ]
    }
   ],
   "source": [
    "!pip install faiss-cpu requests"
   ]
  },
  {
   "cell_type": "code",
   "execution_count": 2,
   "id": "a735fcfc",
   "metadata": {},
   "outputs": [],
   "source": [
    "import faiss\n",
    "import numpy as np\n",
    "import requests"
   ]
  },
  {
   "cell_type": "code",
   "execution_count": 4,
   "id": "3b753418",
   "metadata": {},
   "outputs": [],
   "source": [
    "dataset=[\n",
    "\"I go by the name Uzumaki-AK online\", \n",
    "\"though most people who know me in closer circles sometimes call me pookie.\",\n",
    "\"I am a full-stack developer who has spent the last several years experimenting with technology in every possible way\",\n",
    "\"For me, coding is not just about solving tasks or earning a living; it is about exploring \"\n",
    "\"creativity through logic and building things that others can actually use.\",\n",
    "\"My main tools revolve around JavaScript and its ecosystem. \",\n",
    "\"I-ve gone deep with Node.js on the backend and React on the frontend\",\n",
    "\"and I-ve learned to appreciate how these technologies empower rapid prototyping while still being powerful enough for production-grade systems.\"\n",
    "]"
   ]
  },
  {
   "cell_type": "code",
   "execution_count": null,
   "id": "b2aa9b70",
   "metadata": {},
   "outputs": [],
   "source": [
    "\n",
    "import requests\n",
    "import numpy as np\n",
    "\n",
    "def generate_embeddings(text):\n",
    "    url = \"https://api.euron.one/api/v1/euri/embeddings\"\n",
    "    headers = {\n",
    "        \"Content-Type\": \"application/json\",\n",
    "        \"Authorization\": \"Bearer api key\"\n",
    "    }\n",
    "    payload = {\n",
    "        \"input\": text,\n",
    "        \"model\": \"text-embedding-3-small\"\n",
    "    }\n",
    "\n",
    "    response = requests.post(url, headers=headers, json=payload)\n",
    "    data = response.json()\n",
    "    \n",
    "    embedding = np.array(data['data'][0]['embedding'])\n",
    "    \n",
    "    return embedding"
   ]
  },
  {
   "cell_type": "code",
   "execution_count": 6,
   "id": "42643a55",
   "metadata": {},
   "outputs": [
    {
     "data": {
      "text/plain": [
       "array([ 0.03796376, -0.04532918, -0.04571564, ...,  0.01877728,\n",
       "       -0.01573109,  0.00168223], shape=(1536,))"
      ]
     },
     "execution_count": 6,
     "metadata": {},
     "output_type": "execute_result"
    }
   ],
   "source": [
    "generate_embeddings(\"my name is sophhia\")"
   ]
  },
  {
   "cell_type": "code",
   "execution_count": 7,
   "id": "da21551c",
   "metadata": {},
   "outputs": [],
   "source": [
    "embeddings=[]\n",
    "for i in dataset:\n",
    "  emb = generate_embeddings(i)\n",
    "  embeddings.append(emb)\n"
   ]
  },
  {
   "cell_type": "code",
   "execution_count": 8,
   "id": "62bd543a",
   "metadata": {},
   "outputs": [
    {
     "data": {
      "text/plain": [
       "[array([ 0.05650667, -0.00188265, -0.04055153, ..., -0.01368648,\n",
       "        -0.00550236, -0.01260294], shape=(1536,)),\n",
       " array([ 0.01651739, -0.06606957, -0.04036649, ..., -0.03424269,\n",
       "         0.02018324,  0.0164893 ], shape=(1536,)),\n",
       " array([-0.03051191, -0.05097594,  0.00287364, ..., -0.04148042,\n",
       "        -0.01182337, -0.01362515], shape=(1536,)),\n",
       " array([ 0.02763267, -0.00928965,  0.01249812, ..., -0.01862905,\n",
       "        -0.03024422, -0.0056055 ], shape=(1536,)),\n",
       " array([-0.02506366,  0.03327802,  0.01847903, ..., -0.02696939,\n",
       "        -0.04284611,  0.01028438], shape=(1536,)),\n",
       " array([-0.03849872, -0.01082376,  0.0028983 , ..., -0.01797975,\n",
       "        -0.01297825,  0.02212202], shape=(1536,)),\n",
       " array([ 0.05689325, -0.01038343, -0.00823419, ..., -0.01509944,\n",
       "        -0.00492135,  0.0049898 ], shape=(1536,))]"
      ]
     },
     "execution_count": 8,
     "metadata": {},
     "output_type": "execute_result"
    }
   ],
   "source": [
    "embeddings"
   ]
  },
  {
   "cell_type": "code",
   "execution_count": 9,
   "id": "ea01427b",
   "metadata": {},
   "outputs": [
    {
     "data": {
      "text/plain": [
       "array([ 0.05650667, -0.00188265, -0.04055153, ..., -0.01368648,\n",
       "       -0.00550236, -0.01260294], shape=(1536,))"
      ]
     },
     "execution_count": 9,
     "metadata": {},
     "output_type": "execute_result"
    }
   ],
   "source": [
    "embeddings[0]"
   ]
  },
  {
   "cell_type": "code",
   "execution_count": 10,
   "id": "6c460a97",
   "metadata": {},
   "outputs": [],
   "source": [
    "# converting this entire embedding to embedding array \n",
    "emb_arr=np.vstack(embeddings)"
   ]
  },
  {
   "cell_type": "code",
   "execution_count": 11,
   "id": "22bfc735",
   "metadata": {},
   "outputs": [
    {
     "data": {
      "text/plain": [
       "array([[ 0.05650667, -0.00188265, -0.04055153, ..., -0.01368648,\n",
       "        -0.00550236, -0.01260294],\n",
       "       [ 0.01651739, -0.06606957, -0.04036649, ..., -0.03424269,\n",
       "         0.02018324,  0.0164893 ],\n",
       "       [-0.03051191, -0.05097594,  0.00287364, ..., -0.04148042,\n",
       "        -0.01182337, -0.01362515],\n",
       "       ...,\n",
       "       [-0.02506366,  0.03327802,  0.01847903, ..., -0.02696939,\n",
       "        -0.04284611,  0.01028438],\n",
       "       [-0.03849872, -0.01082376,  0.0028983 , ..., -0.01797975,\n",
       "        -0.01297825,  0.02212202],\n",
       "       [ 0.05689325, -0.01038343, -0.00823419, ..., -0.01509944,\n",
       "        -0.00492135,  0.0049898 ]], shape=(7, 1536))"
      ]
     },
     "execution_count": 11,
     "metadata": {},
     "output_type": "execute_result"
    }
   ],
   "source": [
    "emb_arr"
   ]
  },
  {
   "cell_type": "code",
   "execution_count": 13,
   "id": "e3633832",
   "metadata": {},
   "outputs": [],
   "source": [
    "# we took dimensio coz faiss neds it to make indexes \n",
    "dimension=emb_arr.shape[1]\n",
    "index = faiss.IndexFlatL2(dimension)"
   ]
  },
  {
   "cell_type": "code",
   "execution_count": 14,
   "id": "fb0d997a",
   "metadata": {},
   "outputs": [
    {
     "data": {
      "text/plain": [
       "<faiss.swigfaiss_avx2.IndexFlatL2; proxy of <Swig Object of type 'faiss::IndexFlatL2 *' at 0x0000021B7C012A60> >"
      ]
     },
     "execution_count": 14,
     "metadata": {},
     "output_type": "execute_result"
    }
   ],
   "source": [
    "index"
   ]
  },
  {
   "cell_type": "code",
   "execution_count": 17,
   "id": "6f09b4de",
   "metadata": {},
   "outputs": [],
   "source": [
    "# storing data indide the inddex \n",
    "\n",
    "index.add(emb_arr)"
   ]
  },
  {
   "cell_type": "code",
   "execution_count": 18,
   "id": "de8a5223",
   "metadata": {},
   "outputs": [
    {
     "data": {
      "text/plain": [
       "14"
      ]
     },
     "execution_count": 18,
     "metadata": {},
     "output_type": "execute_result"
    }
   ],
   "source": [
    "index.ntotal"
   ]
  },
  {
   "cell_type": "code",
   "execution_count": 20,
   "id": "c718cebf",
   "metadata": {},
   "outputs": [],
   "source": [
    "# to store 1 record lts say a text data \n",
    "text2 = 'her nam is shrerya-ji,she is a good girl'"
   ]
  },
  {
   "cell_type": "code",
   "execution_count": 21,
   "id": "2e1023d8",
   "metadata": {},
   "outputs": [
    {
     "data": {
      "text/plain": [
       "array([ 0.02481547, -0.01420271, -0.05133616, ..., -0.00677601,\n",
       "        0.05061818, -0.03439613], shape=(1536,))"
      ]
     },
     "execution_count": 21,
     "metadata": {},
     "output_type": "execute_result"
    }
   ],
   "source": [
    "generate_embeddings(text2)"
   ]
  },
  {
   "cell_type": "code",
   "execution_count": 23,
   "id": "d5802f21",
   "metadata": {},
   "outputs": [],
   "source": [
    "# reshaping to do insertion\n",
    "newtext =generate_embeddings(text2).reshape(1,-1)"
   ]
  },
  {
   "cell_type": "code",
   "execution_count": 24,
   "id": "89f92a0f",
   "metadata": {},
   "outputs": [
    {
     "data": {
      "text/plain": [
       "array([[ 0.0248236 , -0.01422981, -0.05121832, ..., -0.00675579,\n",
       "         0.05058988, -0.03438496]], shape=(1, 1536))"
      ]
     },
     "execution_count": 24,
     "metadata": {},
     "output_type": "execute_result"
    }
   ],
   "source": [
    "newtext"
   ]
  },
  {
   "cell_type": "code",
   "execution_count": 25,
   "id": "0fe3d334",
   "metadata": {},
   "outputs": [],
   "source": [
    "index.add(newtext)"
   ]
  },
  {
   "cell_type": "code",
   "execution_count": 26,
   "id": "fb71d838",
   "metadata": {},
   "outputs": [
    {
     "data": {
      "text/plain": [
       "15"
      ]
     },
     "execution_count": 26,
     "metadata": {},
     "output_type": "execute_result"
    }
   ],
   "source": [
    "index.ntotal"
   ]
  },
  {
   "cell_type": "code",
   "execution_count": 28,
   "id": "4d6bc4eb",
   "metadata": {},
   "outputs": [],
   "source": [
    "# ots storing in the memory so ot store in the physical form \n",
    "faiss.write_index(index,'xyz.faiss')"
   ]
  },
  {
   "cell_type": "code",
   "execution_count": 29,
   "id": "8fd1392a",
   "metadata": {},
   "outputs": [],
   "source": [
    "# now even we will create emb for the query \n",
    "query = 'who is uzumaki-ak'"
   ]
  },
  {
   "cell_type": "code",
   "execution_count": 31,
   "id": "0e94c16f",
   "metadata": {},
   "outputs": [],
   "source": [
    "query_vec = generate_embeddings(query).reshape(1,-1)"
   ]
  },
  {
   "cell_type": "code",
   "execution_count": 32,
   "id": "80766aea",
   "metadata": {},
   "outputs": [
    {
     "data": {
      "text/plain": [
       "array([[ 0.05445392, -0.00295541,  0.01044114, ..., -0.02443214,\n",
       "        -0.01567579, -0.01285843]], shape=(1, 1536))"
      ]
     },
     "execution_count": 32,
     "metadata": {},
     "output_type": "execute_result"
    }
   ],
   "source": [
    "query_vec"
   ]
  },
  {
   "cell_type": "code",
   "execution_count": 34,
   "id": "b18b1108",
   "metadata": {},
   "outputs": [],
   "source": [
    "distance,indices=index.search(query_vec,2)"
   ]
  },
  {
   "cell_type": "code",
   "execution_count": 35,
   "id": "3d4f7c7c",
   "metadata": {},
   "outputs": [
    {
     "data": {
      "text/plain": [
       "array([[0.66178054, 0.66178054]], dtype=float32)"
      ]
     },
     "execution_count": 35,
     "metadata": {},
     "output_type": "execute_result"
    }
   ],
   "source": [
    "distance"
   ]
  },
  {
   "cell_type": "code",
   "execution_count": 36,
   "id": "fe0d4308",
   "metadata": {},
   "outputs": [
    {
     "data": {
      "text/plain": [
       "array([[0, 7]])"
      ]
     },
     "execution_count": 36,
     "metadata": {},
     "output_type": "execute_result"
    }
   ],
   "source": [
    "indices"
   ]
  },
  {
   "cell_type": "code",
   "execution_count": 37,
   "id": "25ceea31",
   "metadata": {},
   "outputs": [
    {
     "data": {
      "text/plain": [
       "'I go by the name Uzumaki-AK online'"
      ]
     },
     "execution_count": 37,
     "metadata": {},
     "output_type": "execute_result"
    }
   ],
   "source": [
    "dataset[0]"
   ]
  },
  {
   "cell_type": "code",
   "execution_count": null,
   "id": "c1b329f9",
   "metadata": {},
   "outputs": [],
   "source": []
  }
 ],
 "metadata": {
  "kernelspec": {
   "display_name": ".venv",
   "language": "python",
   "name": "python3"
  },
  "language_info": {
   "codemirror_mode": {
    "name": "ipython",
    "version": 3
   },
   "file_extension": ".py",
   "mimetype": "text/x-python",
   "name": "python",
   "nbconvert_exporter": "python",
   "pygments_lexer": "ipython3",
   "version": "3.11.9"
  }
 },
 "nbformat": 4,
 "nbformat_minor": 5
}
